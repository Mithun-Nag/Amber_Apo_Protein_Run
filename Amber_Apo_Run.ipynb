{
 "cells": [
  {
   "cell_type": "code",
   "execution_count": 4,
   "id": "c55869cd-ba40-49a5-bc26-0db966c99507",
   "metadata": {},
   "outputs": [],
   "source": [
    "import matplotlib.pyplot as plt\n",
    "import os\n",
    "import numpy as np\n",
    "import math\n",
    "import subprocess"
   ]
  },
  {
   "cell_type": "code",
   "execution_count": null,
   "id": "f80cb65a-39aa-40ad-ba7c-f2e814c5c1f8",
   "metadata": {},
   "outputs": [
    {
     "name": "stdout",
     "output_type": "stream",
     "text": [
      "✅ Cleaned exported bash functions. Subshells will be quiet now.\n"
     ]
    }
   ],
   "source": [
    "#This cell is not necessary, it just made my outputs cleaner at times \n",
    "import os\n",
    "\n",
    "# Strip out the exported bash functions that break Jupyter subshells\n",
    "for key in list(os.environ):\n",
    "    if key.startswith(\"BASH_FUNC_\"):\n",
    "        del os.environ[key]\n",
    "\n",
    "print(\"✅ Cleaned exported bash functions. Subshells will be quiet now.\")\n"
   ]
  },
  {
   "cell_type": "code",
   "execution_count": 6,
   "id": "e1a96241-dab0-4113-b9f7-49bb93c97a99",
   "metadata": {},
   "outputs": [
    {
     "name": "stdout",
     "output_type": "stream",
     "text": [
      "/panfs/accrepfs.vampire/data/kojetin_lab/Mithun/My_Github/Amber_Apo_Protein_Run\n"
     ]
    },
    {
     "data": {
      "text/plain": [
       "'/panfs/accrepfs.vampire/data/kojetin_lab/Mithun/My_Github/Amber_Apo_Protein_Run'"
      ]
     },
     "execution_count": 6,
     "metadata": {},
     "output_type": "execute_result"
    }
   ],
   "source": [
    "# set working directory for all future cells\n",
    "os.chdir(\"/panfs/accrepfs.vampire/data/kojetin_lab/Mithun/My_Github/Amber_Apo_Protein_Run\")\n",
    "# and check with bash command pwd - note the exclamation mark at the beginning\n",
    "!pwd\n",
    "# or in python\n",
    "os.getcwd()"
   ]
  },
  {
   "cell_type": "code",
   "execution_count": null,
   "id": "c48ff7f5-d26f-4357-b8a2-ff6ef11f86b3",
   "metadata": {},
   "outputs": [],
   "source": [
    "#If you have the amber source file you can replace this entire cell with the source file \n",
    "# for example just uncomment and run the below line and remove the rest\n",
    "# !source /sb/apps/amber22/amber.sh\n",
    "import os, subprocess\n",
    "\n",
    "def load_amber_env():\n",
    "    \"\"\"Load AmberTools + Amber environment into the Jupyter kernel.\"\"\"\n",
    "    bash_cmd = \"\"\"\n",
    "    module purge\n",
    "    module load StdEnvACCRE/2023\n",
    "    module load gcc/12.3 openmpi/4.1.5 cuda/12.2\n",
    "    module load ambertools/25.0\n",
    "    module load scipy-stack/2025a\n",
    "    module load amber/24\n",
    "    env\n",
    "    \"\"\"\n",
    "    env_output = subprocess.check_output([\"bash\", \"-c\", bash_cmd], text=True)\n",
    "    for line in env_output.splitlines():\n",
    "        if \"=\" in line:\n",
    "            k, v = line.split(\"=\", 1)\n",
    "            os.environ[k] = v\n",
    "    print(\"✅ Amber environment loaded into Jupyter kernel.\")\n"
   ]
  },
  {
   "cell_type": "code",
   "execution_count": 10,
   "id": "678b4975-ac22-4bef-a887-39924c38c333",
   "metadata": {},
   "outputs": [
    {
     "name": "stderr",
     "output_type": "stream",
     "text": [
      "The following modules were not unloaded:\n",
      "  (Use \"module --force purge\" to unload all):\n",
      "\n",
      "  1) CCconfig        6)  ucx/1.14.1         11) flexiblas/3.3.1\n",
      "  2) gentoo/2023     7)  libfabric/1.18.0   12) imkl/2023.2.0\n",
      "  3) gcccore/.12.3   8)  pmix/4.2.4         13) StdEnvACCRE/2023\n",
      "  4) gcc/12.3        9)  ucc/1.2.0\n",
      "  5) hwloc/2.9.1     10) openmpi/4.1.5\n",
      "Lmod Warning:\n",
      "-------------------------------------------------------------------------------\n",
      "The following dependent module(s) are not currently loaded: scipy-stack/2023b\n",
      "(required by: plumed/2.9.0, ambertools/25.0)\n",
      "-------------------------------------------------------------------------------\n",
      "\n",
      "\n",
      "\n",
      "\n",
      "The following have been reloaded with a version change:\n",
      "  1) ipykernel/2023b => ipykernel/2025a\n",
      "  2) scipy-stack/2023b => scipy-stack/2025a\n",
      "\n"
     ]
    },
    {
     "name": "stdout",
     "output_type": "stream",
     "text": [
      "✅ Amber environment loaded into Jupyter kernel.\n"
     ]
    },
    {
     "name": "stderr",
     "output_type": "stream",
     "text": [
      "Lmod Warning:\n",
      "-------------------------------------------------------------------------------\n",
      "The following dependent module(s) are not currently loaded: scipy-stack/2025a\n",
      "(required by: amber/24)\n",
      "-------------------------------------------------------------------------------\n",
      "\n",
      "\n",
      "\n",
      "\n",
      "Inactive Modules:\n",
      "  1) arrayfire/3.9.0     2) cudnn/8.9.5.29     3) glfw/3.3.8     4) spdlog/1.11.0\n",
      "\n",
      "Due to MODULEPATH changes, the following have been reloaded:\n",
      "  1) ambertools/25.0     2) plumed/2.9.0     3) ucc-cuda/1.2.0     4) ucx-cuda/1.14.1\n",
      "\n",
      "The following have been reloaded with a version change:\n",
      "  1) cuda/12.2 => cuda/12.6\n",
      "  2) cudacore/.12.2.2 => cudacore/.12.6.2\n",
      "  3) ipykernel/2025a => ipykernel/2023b\n",
      "  4) nccl/2.18.3 => nccl/2.26.2\n",
      "  5) scipy-stack/2025a => scipy-stack/2023b\n",
      "\n"
     ]
    }
   ],
   "source": [
    "load_amber_env()"
   ]
  },
  {
   "cell_type": "code",
   "execution_count": 56,
   "id": "56e8a785-c1d0-4854-958c-12b14af49180",
   "metadata": {},
   "outputs": [
    {
     "name": "stderr",
     "output_type": "stream",
     "text": [
      "bash: ml: line 1: syntax error: unexpected end of file\n",
      "bash: error importing function definition for `ml'\n",
      "bash: module: line 1: syntax error: unexpected end of file\n",
      "bash: error importing function definition for `module'\n"
     ]
    },
    {
     "name": "stdout",
     "output_type": "stream",
     "text": [
      "✅ tleap.in file written successfully.\n"
     ]
    }
   ],
   "source": [
    "%%bash\n",
    "# Write tleap.in file for building solvated system\n",
    "\n",
    "cat > tleap.in <<'EOF'\n",
    "# load script using: tleap -s -f tleap.in\n",
    "\n",
    "source leaprc.protein.ff14SB\n",
    "source leaprc.water.tip3p\n",
    "\n",
    "complex = loadPdb Models/H++_server_output/6ONI_built.replaced.pqr\n",
    "\n",
    "check complex\n",
    "charge complex\n",
    "\n",
    "addions complex Na+ 0\n",
    "addions complex Cl- 0\n",
    "\n",
    "solvateoct complex TIP3PBOX 10.0 iso\n",
    "\n",
    "#addions complex K+ 14\n",
    "#addions complex Cl- 14\n",
    "\n",
    "saveamberparm complex prepin.prmtop prepin.inpcrd\n",
    "savepdb complex prepin.pdb\n",
    "\n",
    "quit\n",
    "EOF\n",
    "\n",
    "echo \"✅ tleap.in file written successfully.\"\n"
   ]
  },
  {
   "cell_type": "code",
   "execution_count": null,
   "id": "46a6ba54-ad37-4949-a51c-5992339546c5",
   "metadata": {
    "scrolled": true
   },
   "outputs": [
    {
     "name": "stdout",
     "output_type": "stream",
     "text": [
      "/bin/bash: ml: line 1: syntax error: unexpected end of file\n",
      "/bin/bash: error importing function definition for `ml'\n",
      "/bin/bash: module: line 1: syntax error: unexpected end of file\n",
      "/bin/bash: error importing function definition for `module'\n",
      "/bin/sh: module: line 1: syntax error: unexpected end of file\n",
      "/bin/sh: error importing function definition for `module'\n",
      "/bin/sh: ml: line 1: syntax error: unexpected end of file\n",
      "/bin/sh: error importing function definition for `ml'\n",
      "-I: Adding /cvmfs/soft.computecanada.ca/easybuild/software/2023/x86-64-v3/MPI/gcc12/openmpi4/ambertools/25.0/dat/leap/prep to search path.\n",
      "-I: Adding /cvmfs/soft.computecanada.ca/easybuild/software/2023/x86-64-v3/MPI/gcc12/openmpi4/ambertools/25.0/dat/leap/lib to search path.\n",
      "-I: Adding /cvmfs/soft.computecanada.ca/easybuild/software/2023/x86-64-v3/MPI/gcc12/openmpi4/ambertools/25.0/dat/leap/parm to search path.\n",
      "-I: Adding /cvmfs/soft.computecanada.ca/easybuild/software/2023/x86-64-v3/MPI/gcc12/openmpi4/ambertools/25.0/dat/leap/cmd to search path.\n",
      "-s: Ignoring all leaprc startup files.\n",
      "-f: Source tleap.in.\n",
      "\n",
      "Welcome to LEaP!\n",
      "Sourcing: ./tleap.in\n",
      "----- Source: /cvmfs/soft.computecanada.ca/easybuild/software/2023/x86-64-v3/MPI/gcc12/openmpi4/ambertools/25.0/dat/leap/cmd/leaprc.protein.ff14SB\n",
      "----- Source of /cvmfs/soft.computecanada.ca/easybuild/software/2023/x86-64-v3/MPI/gcc12/openmpi4/ambertools/25.0/dat/leap/cmd/leaprc.protein.ff14SB done\n",
      "Log file: ./leap.log\n",
      "Loading parameters: /cvmfs/soft.computecanada.ca/easybuild/software/2023/x86-64-v3/MPI/gcc12/openmpi4/ambertools/25.0/dat/leap/parm/parm10.dat\n",
      "Reading title:\n",
      "PARM99 + frcmod.ff99SB + frcmod.parmbsc0 + OL3 for RNA\n",
      "Loading parameters: /cvmfs/soft.computecanada.ca/easybuild/software/2023/x86-64-v3/MPI/gcc12/openmpi4/ambertools/25.0/dat/leap/parm/frcmod.ff14SB\n",
      "Reading force field modification type file (frcmod)\n",
      "Reading title:\n",
      "ff14SB protein backbone and sidechain parameters\n",
      "Loading library: /cvmfs/soft.computecanada.ca/easybuild/software/2023/x86-64-v3/MPI/gcc12/openmpi4/ambertools/25.0/dat/leap/lib/amino12.lib\n",
      "Loading library: /cvmfs/soft.computecanada.ca/easybuild/software/2023/x86-64-v3/MPI/gcc12/openmpi4/ambertools/25.0/dat/leap/lib/aminoct12.lib\n",
      "Loading library: /cvmfs/soft.computecanada.ca/easybuild/software/2023/x86-64-v3/MPI/gcc12/openmpi4/ambertools/25.0/dat/leap/lib/aminont12.lib\n",
      "----- Source: /cvmfs/soft.computecanada.ca/easybuild/software/2023/x86-64-v3/MPI/gcc12/openmpi4/ambertools/25.0/dat/leap/cmd/leaprc.water.tip3p\n",
      "----- Source of /cvmfs/soft.computecanada.ca/easybuild/software/2023/x86-64-v3/MPI/gcc12/openmpi4/ambertools/25.0/dat/leap/cmd/leaprc.water.tip3p done\n",
      "Loading library: /cvmfs/soft.computecanada.ca/easybuild/software/2023/x86-64-v3/MPI/gcc12/openmpi4/ambertools/25.0/dat/leap/lib/atomic_ions.lib\n",
      "Loading library: /cvmfs/soft.computecanada.ca/easybuild/software/2023/x86-64-v3/MPI/gcc12/openmpi4/ambertools/25.0/dat/leap/lib/solvents.lib\n",
      "Loading parameters: /cvmfs/soft.computecanada.ca/easybuild/software/2023/x86-64-v3/MPI/gcc12/openmpi4/ambertools/25.0/dat/leap/parm/frcmod.tip3p\n",
      "Reading force field modification type file (frcmod)\n",
      "Reading title:\n",
      "This is the additional/replacement parameter set for TIP3P water\n",
      "Loading parameters: /cvmfs/soft.computecanada.ca/easybuild/software/2023/x86-64-v3/MPI/gcc12/openmpi4/ambertools/25.0/dat/leap/parm/frcmod.ions1lm_126_tip3p\n",
      "Reading force field modification type file (frcmod)\n",
      "Reading title:\n",
      "Li/Merz ion parameters of monovalent ions for TIP3P water model (12-6 normal usage set)\n",
      "Loading parameters: /cvmfs/soft.computecanada.ca/easybuild/software/2023/x86-64-v3/MPI/gcc12/openmpi4/ambertools/25.0/dat/leap/parm/frcmod.ionsjc_tip3p\n",
      "Reading force field modification type file (frcmod)\n",
      "Reading title:\n",
      "Monovalent ion parameters for Ewald and TIP3P water from Joung & Cheatham JPCB (2008)\n",
      "Loading parameters: /cvmfs/soft.computecanada.ca/easybuild/software/2023/x86-64-v3/MPI/gcc12/openmpi4/ambertools/25.0/dat/leap/parm/frcmod.ions234lm_126_tip3p\n",
      "Reading force field modification type file (frcmod)\n",
      "Reading title:\n",
      "Li/Merz ion parameters of divalent to tetravalent ions for TIP3P water model (12-6 normal usage set)\n",
      "Loading PDB file: ./Models/H++_server_output/6ONI_built.replaced.pqr\n",
      "  total atoms in file: 4475\n",
      "Checking 'complex'....\n",
      "\n",
      "/cvmfs/soft.computecanada.ca/easybuild/software/2023/x86-64-v3/MPI/gcc12/openmpi4/ambertools/25.0/bin/teLeap: Warning!\n",
      "The unperturbed charge of the unit (1.000000) is not zero.\n",
      "\n",
      "/cvmfs/soft.computecanada.ca/easybuild/software/2023/x86-64-v3/MPI/gcc12/openmpi4/ambertools/25.0/bin/teLeap: Warning!\n",
      "Close contact of 1.347 angstroms between nonbonded atoms HD1 and H\n",
      "-------  .R<HIP 263>.A<HD1 10> and .R<LEU 265>.A<H 2>\n",
      "Checking parameters for unit 'complex'.\n",
      "Checking for bond parameters.\n",
      "Checking for angle parameters.\n",
      "check:  Warnings: 2\n",
      "Unit is OK.\n",
      "Total unperturbed charge:   1.000000\n",
      "Total perturbed charge:     1.000000\n",
      "\n",
      "/cvmfs/soft.computecanada.ca/easybuild/software/2023/x86-64-v3/MPI/gcc12/openmpi4/ambertools/25.0/bin/teLeap: Warning!\n",
      "addIons: 1st Ion & target unit have charges of the same sign:\n",
      "     unit charge = 1; ion1 charge = 1;\n",
      "     can't neutralize.\n",
      "1 Cl- ion required to neutralize.\n",
      "Adding 1 counter ions to \"complex\" using 1A grid\n",
      "Grid extends from solute vdw + 2.51  to  8.51\n",
      "Resolution:      1.00 Angstrom.\n",
      " (no solvent present)\n",
      "Calculating grid charges\n",
      "Placed Cl- in complex at (-15.00, 11.55, 35.73).\n",
      "\n",
      "Done adding ions.\n",
      "Scaling up box by a factor of 1.368483 to meet diagonal cut criterion\n",
      "  Solute vdw bounding box:              43.588 70.188 54.139\n",
      "  Total bounding box for atom centers:  97.557 97.557 97.557\n",
      "      (box expansion for 'iso' is  64.6%)\n",
      "  Solvent unit box:                     18.774 18.774 18.774\n",
      "  Volume: 478669.013 A^3 (oct)\n",
      "  Total mass 258447.754 amu,  Density 0.897 g/cc\n",
      "  Added 12607 residues.\n",
      "Checking Unit.\n",
      "Building topology.\n",
      "Building atom parameters.\n",
      "Building bond parameters.\n",
      "Building angle parameters.\n",
      "Building proper torsion parameters.\n",
      "Building improper torsion parameters.\n",
      " total 834 improper torsions applied\n",
      "Building H-Bond parameters.\n",
      "Incorporating Non-Bonded adjustments.\n",
      "Not Marking per-residue atom chain types.\n",
      "Marking per-residue atom chain types.\n",
      "  (Residues lacking connect0/connect1 - \n",
      "   these don't have chain types marked:\n",
      "\n",
      "\tres\ttotal affected\n",
      "\n",
      "\tCTYR\t1\n",
      "\tNLEU\t1\n",
      "\tWAT\t12607\n",
      "  )\n",
      " (no restraints)\n",
      "Writing pdb file: prepin.pdb\n",
      "   printing CRYST1 record to PDB file with box info\n",
      "\n",
      "/cvmfs/soft.computecanada.ca/easybuild/software/2023/x86-64-v3/MPI/gcc12/openmpi4/ambertools/25.0/bin/teLeap: Warning!\n",
      " Converting N-terminal residue name to PDB format: NLEU -> LEU\n",
      "\n",
      "/cvmfs/soft.computecanada.ca/easybuild/software/2023/x86-64-v3/MPI/gcc12/openmpi4/ambertools/25.0/bin/teLeap: Warning!\n",
      " Converting C-terminal residue name to PDB format: CTYR -> TYR\n",
      "\tQuit\n",
      "\n",
      "Exiting LEaP: Errors = 0; Warnings = 5; Notes = 0.\n"
     ]
    }
   ],
   "source": [
    "!tleap -s -f tleap.in"
   ]
  },
  {
   "cell_type": "code",
   "execution_count": null,
   "id": "767207de-bd8e-4f01-9b46-d080adfc92b2",
   "metadata": {},
   "outputs": [
    {
     "name": "stdout",
     "output_type": "stream",
     "text": [
      "/bin/bash: ml: line 1: syntax error: unexpected end of file\n",
      "/bin/bash: error importing function definition for `ml'\n",
      "/bin/bash: module: line 1: syntax error: unexpected end of file\n",
      "/bin/bash: error importing function definition for `module'\n",
      "  85.3530531  85.3530531  85.3530531 109.4712190 109.4712190 109.4712190\n"
     ]
    }
   ],
   "source": [
    "#Check the last line of the output this output for the box dimensions \n",
    "!tail -n 1 prepin.inpcrd"
   ]
  },
  {
   "cell_type": "code",
   "execution_count": 32,
   "id": "e6522945-330d-46eb-a8bd-aae05aac5c7b",
   "metadata": {},
   "outputs": [
    {
     "name": "stdout",
     "output_type": "stream",
     "text": [
      "/bin/bash: ml: line 1: syntax error: unexpected end of file\n",
      "/bin/bash: error importing function definition for `ml'\n",
      "/bin/bash: module: line 1: syntax error: unexpected end of file\n",
      "/bin/bash: error importing function definition for `module'\n",
      " MOLARITY =    0.050\n",
      " Box size =   85.353   85.353   85.353  109.471  109.471  109.471\n",
      " Volume = 478669.016\n",
      "\n",
      "   14.413 molecules are necessary to make a molarity of   0.05 M\n",
      "\n"
     ]
    }
   ],
   "source": [
    "#perl molarity.perl {conc in M} {pasted coordinates from above} \n",
    "#keep 0.05 it tells the perl script that we desire to have 50mM Salt \n",
    "#Just copy the box dimensions from the last cell and add it here and run this cell\n",
    "!perl Scripts/molarity.perl 0.05 85.3530531  85.3530531  85.3530531 109.4712190 109.4712190 109.4712190"
   ]
  },
  {
   "cell_type": "code",
   "execution_count": null,
   "id": "2e3e455b-32e2-48a1-b196-91ec71ab0cd8",
   "metadata": {},
   "outputs": [
    {
     "name": "stdout",
     "output_type": "stream",
     "text": [
      "/bin/bash: ml: line 1: syntax error: unexpected end of file\n",
      "/bin/bash: error importing function definition for `ml'\n",
      "/bin/bash: module: line 1: syntax error: unexpected end of file\n",
      "/bin/bash: error importing function definition for `module'\n",
      "/bin/bash: ml: line 1: syntax error: unexpected end of file\n",
      "/bin/bash: error importing function definition for `ml'\n",
      "/bin/bash: module: line 1: syntax error: unexpected end of file\n",
      "/bin/bash: error importing function definition for `module'\n",
      "tail: cannot open '10' for reading: No such file or directory\n",
      "==> tleap.in <==\n",
      "\n",
      "solvateoct complex TIP3PBOX 10.0 iso\n",
      "\n",
      "addions complex K+ 14\n",
      "addions complex Cl- 14\n",
      "\n",
      "saveamberparm complex prepin.prmtop prepin.inpcrd\n",
      "savepdb complex prepin.pdb\n",
      "\n",
      "quit\n"
     ]
    }
   ],
   "source": [
    "# The cell above shows that we need to add ~14 molecules of K and Cl to get 50mM,\n",
    "\n",
    "!sed -i 's/#addions complex K+ 14/addions complex K+ 14/; s/#addions complex Cl- 14/addions complex Cl- 14/; s/addions complex Cl- 0/addions complex Cl- 1/;' tleap.in\n",
    "!tail 10 tleap.in"
   ]
  },
  {
   "cell_type": "code",
   "execution_count": 34,
   "id": "1bd264e0-5cbd-438e-b012-c4a6a334f1a5",
   "metadata": {
    "scrolled": true
   },
   "outputs": [
    {
     "name": "stdout",
     "output_type": "stream",
     "text": [
      "/bin/bash: ml: line 1: syntax error: unexpected end of file\n",
      "/bin/bash: error importing function definition for `ml'\n",
      "/bin/bash: module: line 1: syntax error: unexpected end of file\n",
      "/bin/bash: error importing function definition for `module'\n",
      "/bin/sh: module: line 1: syntax error: unexpected end of file\n",
      "/bin/sh: error importing function definition for `module'\n",
      "/bin/sh: ml: line 1: syntax error: unexpected end of file\n",
      "/bin/sh: error importing function definition for `ml'\n",
      "-I: Adding /cvmfs/soft.computecanada.ca/easybuild/software/2023/x86-64-v3/MPI/gcc12/openmpi4/ambertools/25.0/dat/leap/prep to search path.\n",
      "-I: Adding /cvmfs/soft.computecanada.ca/easybuild/software/2023/x86-64-v3/MPI/gcc12/openmpi4/ambertools/25.0/dat/leap/lib to search path.\n",
      "-I: Adding /cvmfs/soft.computecanada.ca/easybuild/software/2023/x86-64-v3/MPI/gcc12/openmpi4/ambertools/25.0/dat/leap/parm to search path.\n",
      "-I: Adding /cvmfs/soft.computecanada.ca/easybuild/software/2023/x86-64-v3/MPI/gcc12/openmpi4/ambertools/25.0/dat/leap/cmd to search path.\n",
      "-s: Ignoring all leaprc startup files.\n",
      "-f: Source tleap.in.\n",
      "\n",
      "Welcome to LEaP!\n",
      "Sourcing: ./tleap.in\n",
      "----- Source: /cvmfs/soft.computecanada.ca/easybuild/software/2023/x86-64-v3/MPI/gcc12/openmpi4/ambertools/25.0/dat/leap/cmd/leaprc.protein.ff14SB\n",
      "----- Source of /cvmfs/soft.computecanada.ca/easybuild/software/2023/x86-64-v3/MPI/gcc12/openmpi4/ambertools/25.0/dat/leap/cmd/leaprc.protein.ff14SB done\n",
      "Log file: ./leap.log\n",
      "Loading parameters: /cvmfs/soft.computecanada.ca/easybuild/software/2023/x86-64-v3/MPI/gcc12/openmpi4/ambertools/25.0/dat/leap/parm/parm10.dat\n",
      "Reading title:\n",
      "PARM99 + frcmod.ff99SB + frcmod.parmbsc0 + OL3 for RNA\n",
      "Loading parameters: /cvmfs/soft.computecanada.ca/easybuild/software/2023/x86-64-v3/MPI/gcc12/openmpi4/ambertools/25.0/dat/leap/parm/frcmod.ff14SB\n",
      "Reading force field modification type file (frcmod)\n",
      "Reading title:\n",
      "ff14SB protein backbone and sidechain parameters\n",
      "Loading library: /cvmfs/soft.computecanada.ca/easybuild/software/2023/x86-64-v3/MPI/gcc12/openmpi4/ambertools/25.0/dat/leap/lib/amino12.lib\n",
      "Loading library: /cvmfs/soft.computecanada.ca/easybuild/software/2023/x86-64-v3/MPI/gcc12/openmpi4/ambertools/25.0/dat/leap/lib/aminoct12.lib\n",
      "Loading library: /cvmfs/soft.computecanada.ca/easybuild/software/2023/x86-64-v3/MPI/gcc12/openmpi4/ambertools/25.0/dat/leap/lib/aminont12.lib\n",
      "----- Source: /cvmfs/soft.computecanada.ca/easybuild/software/2023/x86-64-v3/MPI/gcc12/openmpi4/ambertools/25.0/dat/leap/cmd/leaprc.water.tip3p\n",
      "----- Source of /cvmfs/soft.computecanada.ca/easybuild/software/2023/x86-64-v3/MPI/gcc12/openmpi4/ambertools/25.0/dat/leap/cmd/leaprc.water.tip3p done\n",
      "Loading library: /cvmfs/soft.computecanada.ca/easybuild/software/2023/x86-64-v3/MPI/gcc12/openmpi4/ambertools/25.0/dat/leap/lib/atomic_ions.lib\n",
      "Loading library: /cvmfs/soft.computecanada.ca/easybuild/software/2023/x86-64-v3/MPI/gcc12/openmpi4/ambertools/25.0/dat/leap/lib/solvents.lib\n",
      "Loading parameters: /cvmfs/soft.computecanada.ca/easybuild/software/2023/x86-64-v3/MPI/gcc12/openmpi4/ambertools/25.0/dat/leap/parm/frcmod.tip3p\n",
      "Reading force field modification type file (frcmod)\n",
      "Reading title:\n",
      "This is the additional/replacement parameter set for TIP3P water\n",
      "Loading parameters: /cvmfs/soft.computecanada.ca/easybuild/software/2023/x86-64-v3/MPI/gcc12/openmpi4/ambertools/25.0/dat/leap/parm/frcmod.ions1lm_126_tip3p\n",
      "Reading force field modification type file (frcmod)\n",
      "Reading title:\n",
      "Li/Merz ion parameters of monovalent ions for TIP3P water model (12-6 normal usage set)\n",
      "Loading parameters: /cvmfs/soft.computecanada.ca/easybuild/software/2023/x86-64-v3/MPI/gcc12/openmpi4/ambertools/25.0/dat/leap/parm/frcmod.ionsjc_tip3p\n",
      "Reading force field modification type file (frcmod)\n",
      "Reading title:\n",
      "Monovalent ion parameters for Ewald and TIP3P water from Joung & Cheatham JPCB (2008)\n",
      "Loading parameters: /cvmfs/soft.computecanada.ca/easybuild/software/2023/x86-64-v3/MPI/gcc12/openmpi4/ambertools/25.0/dat/leap/parm/frcmod.ions234lm_126_tip3p\n",
      "Reading force field modification type file (frcmod)\n",
      "Reading title:\n",
      "Li/Merz ion parameters of divalent to tetravalent ions for TIP3P water model (12-6 normal usage set)\n",
      "Loading PDB file: ./Models/H++_server_output/6ONI_built.replaced.pqr\n",
      "  total atoms in file: 4475\n",
      "Checking 'complex'....\n",
      "\n",
      "/cvmfs/soft.computecanada.ca/easybuild/software/2023/x86-64-v3/MPI/gcc12/openmpi4/ambertools/25.0/bin/teLeap: Warning!\n",
      "The unperturbed charge of the unit (1.000000) is not zero.\n",
      "\n",
      "/cvmfs/soft.computecanada.ca/easybuild/software/2023/x86-64-v3/MPI/gcc12/openmpi4/ambertools/25.0/bin/teLeap: Warning!\n",
      "Close contact of 1.347 angstroms between nonbonded atoms HD1 and H\n",
      "-------  .R<HIP 263>.A<HD1 10> and .R<LEU 265>.A<H 2>\n",
      "Checking parameters for unit 'complex'.\n",
      "Checking for bond parameters.\n",
      "Checking for angle parameters.\n",
      "check:  Warnings: 2\n",
      "Unit is OK.\n",
      "Total unperturbed charge:   1.000000\n",
      "Total perturbed charge:     1.000000\n",
      "\n",
      "/cvmfs/soft.computecanada.ca/easybuild/software/2023/x86-64-v3/MPI/gcc12/openmpi4/ambertools/25.0/bin/teLeap: Warning!\n",
      "addIons: 1st Ion & target unit have charges of the same sign:\n",
      "     unit charge = 1; ion1 charge = 1;\n",
      "     can't neutralize.\n",
      "Adding 1 counter ions to \"complex\" using 1A grid\n",
      "Grid extends from solute vdw + 2.51  to  8.51\n",
      "Resolution:      1.00 Angstrom.\n",
      " (no solvent present)\n",
      "Calculating grid charges\n",
      "Placed Cl- in complex at (-15.00, 11.55, 35.73).\n",
      "\n",
      "Done adding ions.\n",
      "Scaling up box by a factor of 1.368483 to meet diagonal cut criterion\n",
      "  Solute vdw bounding box:              43.588 70.188 54.139\n",
      "  Total bounding box for atom centers:  97.557 97.557 97.557\n",
      "      (box expansion for 'iso' is  64.6%)\n",
      "  Solvent unit box:                     18.774 18.774 18.774\n",
      "  Volume: 478669.013 A^3 (oct)\n",
      "  Total mass 258447.754 amu,  Density 0.897 g/cc\n",
      "  Added 12607 residues.\n",
      "Adding 14 counter ions to \"complex\" using 1A grid\n",
      "Grid extends from solute vdw + 4.20  to  10.72\n",
      "Resolution:      1.00 Angstrom.\n",
      "Solvent present: replacing closest with ion\n",
      "\t when steric overlaps occur\n",
      "Calculating grid charges\n",
      "(Replacing solvent molecule)\n",
      "Placed K+ in complex at (1.27, 13.62, 23.46).\n",
      "(Replacing solvent molecule)\n",
      "Placed K+ in complex at (-12.47, -16.64, 10.83).\n",
      "(Replacing solvent molecule)\n",
      "Placed K+ in complex at (-12.24, 13.49, 21.07).\n",
      "(Replacing solvent molecule)\n",
      "Placed K+ in complex at (-8.18, 8.65, -11.15).\n",
      "(Replacing solvent molecule)\n",
      "Placed K+ in complex at (-0.03, 30.52, 9.27).\n",
      "(Replacing solvent molecule)\n",
      "Placed K+ in complex at (20.28, -9.51, 7.79).\n",
      "(Replacing solvent molecule)\n",
      "Placed K+ in complex at (31.03, 2.35, -16.17).\n",
      "(Replacing solvent molecule)\n",
      "Placed K+ in complex at (5.73, 8.52, 20.46).\n",
      "(Replacing solvent molecule)\n",
      "Placed K+ in complex at (9.71, -19.88, -28.70).\n",
      "(Replacing solvent molecule)\n",
      "Placed K+ in complex at (18.61, 19.83, -19.60).\n",
      "(Replacing solvent molecule)\n",
      "Placed K+ in complex at (-22.67, 14.31, 16.06).\n",
      "(Replacing solvent molecule)\n",
      "Placed K+ in complex at (-8.55, -3.65, -14.83).\n",
      "(Replacing solvent molecule)\n",
      "Placed K+ in complex at (-4.55, 27.80, 2.47).\n",
      "(Replacing solvent molecule)\n",
      "Placed K+ in complex at (-19.39, -18.98, -14.83).\n",
      "\n",
      "Done adding ions.\n",
      "Adding 14 counter ions to \"complex\" using 1A grid\n",
      "Grid extends from solute vdw + 6.20  to  12.71\n",
      "Resolution:      1.00 Angstrom.\n",
      "Solvent present: replacing closest with ion\n",
      "\t when steric overlaps occur\n",
      "Calculating grid charges\n",
      "(Replacing solvent molecule)\n",
      "Placed Cl- in complex at (17.55, 12.45, -5.65).\n",
      "(Replacing solvent molecule)\n",
      "Placed Cl- in complex at (23.79, -5.62, -27.79).\n",
      "(Replacing solvent molecule)\n",
      "Placed Cl- in complex at (-15.35, -2.94, -13.90).\n",
      "(Replacing solvent molecule)\n",
      "Placed Cl- in complex at (26.31, -10.35, 5.72).\n",
      "(Replacing solvent molecule)\n",
      "Placed Cl- in complex at (-22.28, 15.45, 8.70).\n",
      "(Replacing solvent molecule)\n",
      "Placed Cl- in complex at (-2.86, 37.28, 5.13).\n",
      "(Replacing solvent molecule)\n",
      "Placed Cl- in complex at (10.30, -14.27, 19.11).\n",
      "(Replacing solvent molecule)\n",
      "Placed Cl- in complex at (-18.24, -5.76, 27.15).\n",
      "(Replacing solvent molecule)\n",
      "Placed Cl- in complex at (8.74, 11.79, 28.97).\n",
      "(Replacing solvent molecule)\n",
      "Placed Cl- in complex at (29.69, 4.30, -23.21).\n",
      "(Replacing solvent molecule)\n",
      "Placed Cl- in complex at (-14.59, 14.33, -11.97).\n",
      "(Replacing solvent molecule)\n",
      "Placed Cl- in complex at (-18.66, -23.91, -8.75).\n",
      "(Replacing solvent molecule)\n",
      "Placed Cl- in complex at (16.74, -23.41, -29.90).\n",
      "(Replacing solvent molecule)\n",
      "Placed Cl- in complex at (35.98, 3.74, -1.01).\n",
      "\n",
      "Done adding ions.\n",
      "Checking Unit.\n",
      "Building topology.\n",
      "Building atom parameters.\n",
      "Building bond parameters.\n",
      "Building angle parameters.\n",
      "Building proper torsion parameters.\n",
      "Building improper torsion parameters.\n",
      " total 834 improper torsions applied\n",
      "Building H-Bond parameters.\n",
      "Incorporating Non-Bonded adjustments.\n",
      "Not Marking per-residue atom chain types.\n",
      "Marking per-residue atom chain types.\n",
      "  (Residues lacking connect0/connect1 - \n",
      "   these don't have chain types marked:\n",
      "\n",
      "\tres\ttotal affected\n",
      "\n",
      "\tCTYR\t1\n",
      "\tNLEU\t1\n",
      "\tWAT\t12579\n",
      "  )\n",
      " (no restraints)\n",
      "Writing pdb file: prepin.pdb\n",
      "   printing CRYST1 record to PDB file with box info\n",
      "\n",
      "/cvmfs/soft.computecanada.ca/easybuild/software/2023/x86-64-v3/MPI/gcc12/openmpi4/ambertools/25.0/bin/teLeap: Warning!\n",
      " Converting N-terminal residue name to PDB format: NLEU -> LEU\n",
      "\n",
      "/cvmfs/soft.computecanada.ca/easybuild/software/2023/x86-64-v3/MPI/gcc12/openmpi4/ambertools/25.0/bin/teLeap: Warning!\n",
      " Converting C-terminal residue name to PDB format: CTYR -> TYR\n",
      "\tQuit\n",
      "\n",
      "Exiting LEaP: Errors = 0; Warnings = 5; Notes = 0.\n"
     ]
    }
   ],
   "source": [
    "#Rerun tleap to get the updates input files with added ions \n",
    "!tleap -s -f tleap.in"
   ]
  },
  {
   "cell_type": "code",
   "execution_count": null,
   "id": "9e123da8-e4e1-4766-8b89-f95ade036125",
   "metadata": {
    "scrolled": true
   },
   "outputs": [
    {
     "name": "stdout",
     "output_type": "stream",
     "text": [
      "/bin/bash: ml: line 1: syntax error: unexpected end of file\n",
      "/bin/bash: error importing function definition for `ml'\n",
      "/bin/bash: module: line 1: syntax error: unexpected end of file\n",
      "/bin/bash: error importing function definition for `module'\n",
      "sh: module: line 1: syntax error: unexpected end of file\n",
      "sh: error importing function definition for `module'\n",
      "sh: ml: line 1: syntax error: unexpected end of file\n",
      "sh: error importing function definition for `ml'\n",
      "Note: The following floating-point exceptions are signalling: IEEE_UNDERFLOW_FLAG IEEE_DENORMAL\n",
      "Note: The following floating-point exceptions are signalling: IEEE_UNDERFLOW_FLAG IEEE_DENORMAL\n",
      "Note: The following floating-point exceptions are signalling: IEEE_UNDERFLOW_FLAG IEEE_DENORMAL\n",
      "Note: The following floating-point exceptions are signalling: IEEE_UNDERFLOW_FLAG IEEE_DENORMAL\n",
      "Note: The following floating-point exceptions are signalling: IEEE_UNDERFLOW_FLAG IEEE_DENORMAL\n",
      "Note: The following floating-point exceptions are signalling: IEEE_UNDERFLOW_FLAG IEEE_DENORMAL\n",
      "Note: The following floating-point exceptions are signalling: IEEE_UNDERFLOW_FLAG IEEE_DENORMAL\n",
      "Note: The following floating-point exceptions are signalling: IEEE_UNDERFLOW_FLAG IEEE_DENORMAL\n",
      "Note: The following floating-point exceptions are signalling: IEEE_UNDERFLOW_FLAG IEEE_DENORMAL\n"
     ]
    }
   ],
   "source": [
    "#Write the minimization files in a new directory (keeps the flies organized) \n",
    "!mkdir Minimization\n",
    "%cd Minimization \n",
    "\n",
    "!sh ../Scripts/mesmy.sh > log.mesmy"
   ]
  },
  {
   "cell_type": "code",
   "execution_count": null,
   "id": "3011186f-f36b-41af-90b2-a22db55a13bf",
   "metadata": {},
   "outputs": [
    {
     "name": "stderr",
     "output_type": "stream",
     "text": [
      "bash: ml: line 1: syntax error: unexpected end of file\n",
      "bash: error importing function definition for `ml'\n",
      "bash: module: line 1: syntax error: unexpected end of file\n",
      "bash: error importing function definition for `module'\n"
     ]
    },
    {
     "name": "stdout",
     "output_type": "stream",
     "text": [
      "\n",
      "  ____    .---.  ,-----.  _____            \n",
      ".'    `,.':   :'' :    :.'     `.          \n",
      "| :   :    ' '     '  '   :   :  \\         \n",
      "|  ' '                     ' '    \\        \n",
      "|       v                          \\       \n",
      "|       |       v                   \\      \n",
      "|       |       |       v            \\     \n",
      "|   P   |   A   |   R   |   M   |     \\    \n",
      "|       |       |       |       |      \\   \n",
      "|       |       |       |       |       \\  \n",
      "|       |       |       |       |        \\ \n",
      "| ===== |       |       |       |         )\n",
      " \\ --- /| ===== |       |       |        / \n",
      "  `---'  \\ --- /| ===== | ===== |       /  \n",
      "          `---'  \\ ---- A ----- /      /   \n",
      "                  `----'.`-----'      /    \n",
      "                       /             /     \n",
      "                       '-._    ED   /      \n",
      "                           '.      /       \n",
      "                             `----' \n",
      "\n",
      "ParmEd: a Parameter file Editor\n",
      "\n",
      "\n",
      "Loaded Amber topology file ../prepin.prmtop\n",
      "Reading input from STDIN...\n",
      "> Repartitioning hydrogen masses to 3.024 daltons. Not changing water hydrogen masses.\n",
      "> Outputting Amber topology file prepinHMR.prmtop\n",
      "> Done!\n"
     ]
    }
   ],
   "source": [
    "%%bash\n",
    "# Create a ParmEd input file with HMR commands this method effectively speeds up the simulations \n",
    "cat > hmr_commands.in <<EOF\n",
    "HMassRepartition\n",
    "outparm prepinHMR.prmtop\n",
    "go\n",
    "quit\n",
    "EOF\n",
    "\n",
    "# Run ParmEd with the input file\n",
    "parmed ../prepin.prmtop < hmr_commands.in\n"
   ]
  },
  {
   "cell_type": "code",
   "execution_count": null,
   "id": "e83c73b6-4647-40ae-a81d-193f0da3397e",
   "metadata": {
    "scrolled": true
   },
   "outputs": [
    {
     "name": "stdout",
     "output_type": "stream",
     "text": [
      "/panfs/accrepfs.vampire/data/kojetin_lab/Mithun/My_Github/Amber_Apo_Protein_Run/Production\n",
      "/bin/bash: ml: line 1: syntax error: unexpected end of file\n",
      "/bin/bash: error importing function definition for `ml'\n",
      "/bin/bash: module: line 1: syntax error: unexpected end of file\n",
      "/bin/bash: error importing function definition for `module'\n",
      "/bin/bash: ml: line 1: syntax error: unexpected end of file\n",
      "/bin/bash: error importing function definition for `ml'\n",
      "/bin/bash: module: line 1: syntax error: unexpected end of file\n",
      "/bin/bash: error importing function definition for `module'\n",
      "/bin/bash: ml: line 1: syntax error: unexpected end of file\n",
      "/bin/bash: error importing function definition for `ml'\n",
      "/bin/bash: module: line 1: syntax error: unexpected end of file\n",
      "/bin/bash: error importing function definition for `module'\n"
     ]
    }
   ],
   "source": [
    "#Copy the requried files, take a look at these scripts that will be used \n",
    "#production.pl is the driver script that will run the simulations in chunks \n",
    "#prod1.in.start is used for the first 100ns and tell amber to sample initial velocities friom boltzmann distribution\n",
    "#prod1.in is used for the rest of the simulations and it reads the last frame of the previous 100ns simulation and continues from there\n",
    "%cd ../\n",
    "!mkdir Production\n",
    "%cd Production\n",
    "!cp ../Scripts/production.pl .\n",
    "!cp ../Scripts/prod1.in.start .\n",
    "!cp ../Scripts/prod1.in ."
   ]
  },
  {
   "cell_type": "code",
   "execution_count": 54,
   "id": "288202c5-ba50-4d88-a032-00502eb12b71",
   "metadata": {},
   "outputs": [
    {
     "name": "stdout",
     "output_type": "stream",
     "text": [
      "/bin/bash: ml: line 1: syntax error: unexpected end of file\n",
      "/bin/bash: error importing function definition for `ml'\n",
      "/bin/bash: module: line 1: syntax error: unexpected end of file\n",
      "/bin/bash: error importing function definition for `module'\n",
      "^C\n"
     ]
    }
   ],
   "source": [
    "#Test to see if it works \n",
    "!perl production.pl > PRODUCTION.OUT"
   ]
  },
  {
   "cell_type": "code",
   "execution_count": 58,
   "id": "8891f0cf-59fb-49fd-adfc-18f568c187ab",
   "metadata": {},
   "outputs": [
    {
     "name": "stderr",
     "output_type": "stream",
     "text": [
      "bash: ml: line 1: syntax error: unexpected end of file\n",
      "bash: error importing function definition for `ml'\n",
      "bash: module: line 1: syntax error: unexpected end of file\n",
      "bash: error importing function definition for `module'\n"
     ]
    }
   ],
   "source": [
    "%%bash\n",
    "# Write slrum script in the working directory, later submit to ACCRE \n",
    "\n",
    "cat > 6ONI_submit_slurm <<'EOF'\n",
    "#!/bin/bash\n",
    "#SBATCH --job-name=Amber_Apo_6ONI_Run\n",
    "#SBATCH --mail-type=ALL\n",
    "#SBATCH --nodes=1\n",
    "#SBATCH --mem=40G\n",
    "#SBATCH --time=5-00:00:00\n",
    "#SBATCH --partition=batch_gpu\n",
    "#SBATCH --account=csb_gpu_acc\n",
    "#SBATCH --gres=gpu:nvidia_titan_x:1   # request exactly 3 GPUs on this node\n",
    "#SBATCH --output=PPARg_meta_out_%j.log\n",
    "#SBATCH --error=PPARg_meta_err_%j.log\n",
    "\n",
    "module purge\n",
    "module load StdEnvACCRE/2023\n",
    "module load gcc/12.3 openmpi/4.1.5 cuda/12.2\n",
    "module load ambertools/25.0\n",
    "module load scipy-stack/2025a\n",
    "module load amber/24\n",
    "    \n",
    "perl production.pl > PRODUCTION.OUT\n",
    "\n",
    "EOF"
   ]
  },
  {
   "cell_type": "code",
   "execution_count": 59,
   "id": "144aaf3f-d993-4a04-8028-15910a51803a",
   "metadata": {},
   "outputs": [
    {
     "name": "stdout",
     "output_type": "stream",
     "text": [
      "/bin/bash: ml: line 1: syntax error: unexpected end of file\n",
      "/bin/bash: error importing function definition for `ml'\n",
      "/bin/bash: module: line 1: syntax error: unexpected end of file\n",
      "/bin/bash: error importing function definition for `module'\n",
      "6ONI_submit_slurm  md_prod1.mdinfo  prod1.in.start  production.pl  PTR_002.out\n",
      "md_prod1_001.nc    prod1.in\t    PRODUCTION.OUT  PTR_001.out\n"
     ]
    }
   ],
   "source": [
    "!ls"
   ]
  },
  {
   "cell_type": "code",
   "execution_count": 60,
   "id": "f793af4c-ddc6-4c78-9736-0e57ded1bec0",
   "metadata": {},
   "outputs": [
    {
     "name": "stdout",
     "output_type": "stream",
     "text": [
      "/bin/bash: ml: line 1: syntax error: unexpected end of file\n",
      "/bin/bash: error importing function definition for `ml'\n",
      "/bin/bash: module: line 1: syntax error: unexpected end of file\n",
      "/bin/bash: error importing function definition for `module'\n",
      "Submitted batch job 5155533\n"
     ]
    }
   ],
   "source": [
    "!sbatch 6ONI_submit_slurm"
   ]
  },
  {
   "cell_type": "code",
   "execution_count": null,
   "id": "996810eb-818b-41a1-9fb6-41f2c088b775",
   "metadata": {},
   "outputs": [],
   "source": []
  }
 ],
 "metadata": {
  "kernelspec": {
   "display_name": "Python 3 (ipykernel)",
   "language": "python",
   "name": "python3"
  },
  "language_info": {
   "codemirror_mode": {
    "name": "ipython",
    "version": 3
   },
   "file_extension": ".py",
   "mimetype": "text/x-python",
   "name": "python",
   "nbconvert_exporter": "python",
   "pygments_lexer": "ipython3",
   "version": "3.12.4"
  }
 },
 "nbformat": 4,
 "nbformat_minor": 5
}
